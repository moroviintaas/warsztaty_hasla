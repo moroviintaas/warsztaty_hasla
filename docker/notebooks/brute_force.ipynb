{
 "cells": [
  {
   "cell_type": "code",
   "execution_count": null,
   "id": "313c8581",
   "metadata": {},
   "outputs": [],
   "source": [
    "import hashlib\n",
    "import binascii\n",
    "import itertools\n",
    "import datetime\n",
    "\n",
    "password_a4 = \"secr\"\n",
    "password_a4_bin = password_a4.encode(\"utf-8\")\n",
    "hash_object_a4 = hashlib.sha256(password_a4_bin)\n",
    "print(\"hash4\\t\\t\", hash_object_a4.hexdigest())\n",
    "print(\"hash4bin\\t\", hash_object_a4.digest())\n",
    "print(\"\")\n",
    "\n",
    "password_a5 = \"secre\"\n",
    "password_a5_bin = password_a5.encode(\"utf-8\")\n",
    "hash_object_a5 = hashlib.sha256(password_a5_bin)\n",
    "print(\"hash5\\t\\t\", hash_object_a5.hexdigest())\n",
    "print(\"hash5bin\\t\", hash_object_a5.digest())\n",
    "print(\"\")\n",
    "\n",
    "password_6 = \"secret\"\n",
    "password_6_bin = password_6.encode(\"utf-8\")\n",
    "hash_object_6 = hashlib.sha256(password_6_bin)\n",
    "print(\"hash6\\t\\t\", hash_object_6.hexdigest())\n",
    "print(\"hash6bin\\t\", hash_object_6.digest())\n",
    "\n",
    "\n",
    "#x1 = binascii.unhexlify(hash_object.hexdigest())\n",
    "#print(x1)\n"
   ]
  },
  {
   "cell_type": "code",
   "execution_count": null,
   "id": "ec70c93e",
   "metadata": {},
   "outputs": [],
   "source": [
    "alphabet_a = \"abcdefghijklmnopqrstuvwxyz\"\n",
    "alphabet_Aa = \"ABCDEFGHIJKLMNOPQRSTUVWXYZabcdefghijklmnopqrstuvwxyz\"\n",
    "alphabet_a_bin = alphabet_a.encode(\"utf-8\")\n",
    "print(alphabet_a_bin)"
   ]
  },
  {
   "cell_type": "markdown",
   "id": "f9b385b1",
   "metadata": {},
   "source": [
    "### Prosty łamacz haseł"
   ]
  },
  {
   "cell_type": "code",
   "execution_count": null,
   "id": "0620430d",
   "metadata": {},
   "outputs": [],
   "source": [
    "import hashlib\n",
    "import binascii\n",
    "import itertools\n",
    "import datetime\n",
    "\n",
    "def break_password(hash_sha256, letter_num, alphabet, write_every=None):\n",
    "    print(\"Debug: łamanie hasła\")\n",
    "    done = 0\n",
    "    start_moment = datetime.datetime.now()\n",
    "    \n",
    "    for candidate_t in itertools.product(alphabet, repeat=letter_num):\n",
    "        \n",
    "        #konwertowanie iterowanego obiektu, aby móc go hashować\n",
    "        candidate = \"\".join(candidate_t)\n",
    "        candidate_bin = candidate.encode(\"utf-8\")\n",
    "        \n",
    "        #hashowanie\n",
    "        hash_obj = hashlib.sha256(candidate_bin)\n",
    "        calculated_hash = hash_obj.digest()\n",
    "        \n",
    "        #sprawdzamy warunek\n",
    "        if calculated_hash == hash_sha256:\n",
    "            #kończymy działanie i zwracany wynik jeśli znaleziono\n",
    "            end_moment = datetime.datetime.now()\n",
    "            print(\"Odnaleziono w ciągu: \" + str((end_moment - start_moment) / datetime.timedelta(seconds = 1, microseconds=1)))\n",
    "            return candidate\n",
    "        \n",
    "        #zwiększamy licznik prób\n",
    "        done = done + 1\n",
    "        if  done %10000 == 0 and write_every is not None :\n",
    "            #jeśli spełnione są warunki wypisania postępu to wypisujemy\n",
    "            print(\"checking: \" + candidate)\n",
    "    end_moment = datetime.datetime.now()\n",
    "    print(\"Porażka, nie odnaleziono; sprawdzono: \" +str(done))\n",
    "    print(\"\\t czas działania: \" + str((end_moment - start_moment) / datetime.timedelta(seconds = 1, microseconds=1)) + \"us\")\n",
    "\n",
    "\n"
   ]
  },
  {
   "cell_type": "code",
   "execution_count": null,
   "id": "7e1170bd",
   "metadata": {},
   "outputs": [],
   "source": [
    "# 4 znakowe alfabet a \n",
    "hash_to_break = b'\\xf1\\xac\\x93\\xb9\\\\I\\x00Z\\x86r5\\xc6\\x19QDX\\xb2{\\xad2q8i\\xc3\\xb5%\\xe74T\\xc9\\x04f'\n",
    "break_password(hash_to_break, 4, alphabet_a)"
   ]
  },
  {
   "cell_type": "code",
   "execution_count": null,
   "id": "736cae9e",
   "metadata": {},
   "outputs": [],
   "source": [
    "# 5 znakowe alfabet a \n",
    "hash_to_break = b'0\\xc2\\xcbH\\xd3c\\xdb\\x8d\\xfc\\xcd\\x7f\\xb8(\\xea=w=/N\\x88\\xe8&\\xa1F-\\x9e\\x15\\x02\\xc9\\xc2\\x85\\x85'\n",
    "break_password(hash_to_break, 4, alphabet_a)"
   ]
  },
  {
   "cell_type": "markdown",
   "id": "4b097970",
   "metadata": {},
   "source": [
    "### Przeszukanie"
   ]
  },
  {
   "cell_type": "code",
   "execution_count": null,
   "id": "dc6883a8",
   "metadata": {},
   "outputs": [],
   "source": [
    "#pełne przeszukanie 4a\n",
    "hash_to_break = b''\n",
    "break_password(hash_to_break, 4, alphabet_a)\n"
   ]
  },
  {
   "cell_type": "code",
   "execution_count": null,
   "id": "8900884f",
   "metadata": {},
   "outputs": [],
   "source": [
    "#pełne przeszukanie 5a\n",
    "hash_to_break = b''\n",
    "break_password(hash_to_break, 5, alphabet_a)"
   ]
  },
  {
   "cell_type": "code",
   "execution_count": null,
   "id": "3b8a2e33",
   "metadata": {},
   "outputs": [],
   "source": [
    "#pełne przeszukanie 6a\n",
    "hash_to_break = b''\n",
    "break_password(hash_to_break, 6, alphabet_a)"
   ]
  },
  {
   "cell_type": "code",
   "execution_count": null,
   "id": "8c9bdcd7",
   "metadata": {},
   "outputs": [],
   "source": [
    "#pełne przeszukanie 4Aa\n",
    "hash_to_break = b''\n",
    "break_password(hash_to_break, 4, alphabet_Aa)"
   ]
  }
 ],
 "metadata": {
  "kernelspec": {
   "display_name": "Python 3 (ipykernel)",
   "language": "python",
   "name": "python3"
  },
  "language_info": {
   "codemirror_mode": {
    "name": "ipython",
    "version": 3
   },
   "file_extension": ".py",
   "mimetype": "text/x-python",
   "name": "python",
   "nbconvert_exporter": "python",
   "pygments_lexer": "ipython3",
   "version": "3.9.2"
  }
 },
 "nbformat": 4,
 "nbformat_minor": 5
}
